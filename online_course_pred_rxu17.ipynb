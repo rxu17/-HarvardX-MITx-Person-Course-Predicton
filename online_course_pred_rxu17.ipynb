{
 "cells": [
  {
   "cell_type": "markdown",
   "metadata": {},
   "source": [
    "# Is student X going to complete their online course?\n",
    "\n",
    "### Description: For this project, we are going to predict whether a student will complete (be certified) in their course depending on a number of factors. \n",
    "### How to Run: Click run in jupyter notebook\n",
    "### Author(s): rxu17\n",
    "### Team Name (Kaggle): RXU\n",
    "### Date: 08/01/21\n"
   ]
  },
  {
   "cell_type": "markdown",
   "metadata": {},
   "source": [
    "Import important required libraries"
   ]
  },
  {
   "cell_type": "code",
   "execution_count": 31,
   "metadata": {},
   "outputs": [],
   "source": [
    "# import general libraries\n",
    "import os\n",
    "import sklearn\n",
    "import pandas as pd\n",
    "import numpy as np\n",
    "import matplotlib.pyplot as plt\n",
    "import seaborn as sns\n",
    "\n",
    "# for feature engineering\n",
    "from sklearn.preprocessing import OneHotEncoder\n",
    "from pandas.api.types import is_numeric_dtype\n",
    "from sklearn.impute import KNNImputer\n",
    "from sklearn.preprocessing import MinMaxScaler\n",
    "\n",
    "\n",
    "# for splitting data\n",
    "from sklearn.model_selection import train_test_split\n",
    "\n",
    "# for our various model trainings\n",
    "from sklearn.model_selection import GridSearchCV\n",
    "from sklearn.tree import DecisionTreeClassifier\n",
    "from sklearn.neighbors import KNeighborsClassifier\n",
    "from sklearn.ensemble import RandomForestClassifier, AdaBoostClassifier\n",
    "\n",
    "# scoring\n",
    "from sklearn.metrics import accuracy_score\n",
    "\n",
    "import warnings\n",
    "warnings.filterwarnings('ignore')"
   ]
  },
  {
   "cell_type": "markdown",
   "metadata": {},
   "source": [
    "Read in our training data and test data"
   ]
  },
  {
   "cell_type": "code",
   "execution_count": 47,
   "metadata": {},
   "outputs": [],
   "source": [
    "# input in filepath of input data\n",
    "input_path = os.getcwd()\n",
    "\n",
    "# validate path\n",
    "assert os.path.isdir(input_path),\\\n",
    "    \"{} is not a valid filepath\".format(input_path)\n",
    "\n",
    "# read in our data\n",
    "train_and_validate_data = pd.read_csv(\"{}/edx_su2021_train.csv\".format(input_path))\n",
    "test_data = pd.read_csv(\"{}/edx_su2021_test.csv\".format(input_path))\n",
    "\n",
    "assert not train_and_validate_data.empty and not test_data.empty,\\\n",
    "    \"training and/or test data is empty!\""
   ]
  },
  {
   "cell_type": "markdown",
   "metadata": {},
   "source": [
    "## Splitting our data"
   ]
  },
  {
   "cell_type": "code",
   "execution_count": 49,
   "metadata": {},
   "outputs": [],
   "source": [
    "# our features and descriptions of each\n",
    "features = ['registered', # 0/1; registered for course\n",
    "            'viewed', # 0/1; anyone who accessed the ‘Courseware’ tab\n",
    "            'explored',# 0/1; anyone who accessed at least half of the chapters in the courseware\n",
    "            'LoE_DI', # highest level of education completed\n",
    "            'YoB', # year of birth\n",
    "            'gender', # Possible values: m (male), f (female) and o (other)\n",
    "            'grade', #  final grade in the course, ranges from 0 to 1\n",
    "            'start_time_DI', # date of course registration\n",
    "            'last_event_DI', # date of last interaction with course\n",
    "            'nevents', # number of interactions with the course\n",
    "            'ndays_act', # number of unique days student interacted with course\n",
    "            'nplay_video', # number of play video events within the course\n",
    "            'nchapters', # number of chapters (within the Courseware) with which the student interacted.\n",
    "            'nforum_posts' # number of posts to the Discussion Forum\n",
    "           ]\n",
    "\n",
    "target = \"certified\"\n",
    "# split our data into 80% training, 20% validation for now\n",
    "validate_size = 0.2\n",
    "train_data, validation_data = \\\n",
    "    train_test_split(train_and_validate_data, test_size=validate_size, random_state=6)"
   ]
  },
  {
   "cell_type": "markdown",
   "metadata": {},
   "source": [
    "### Descriptive Statistics"
   ]
  },
  {
   "cell_type": "markdown",
   "metadata": {},
   "source": [
    "Here we start looking into specific aspects of our dataset such as datatypes of the columns, range of values in each column, shape of our dataset, and a subset of our dataset"
   ]
  },
  {
   "cell_type": "code",
   "execution_count": 50,
   "metadata": {},
   "outputs": [
    {
     "name": "stdout",
     "output_type": "stream",
     "text": [
      "      registered  viewed  explored      LoE_DI     YoB gender grade  \\\n",
      "2030           1       1         0   Secondary  1988.0      m     0   \n",
      "5247           1       1         1    Master's  1981.0      f  0.95   \n",
      "3480           1       1         0  Bachelor's  1992.0      m  0.31   \n",
      "7076           1       0         0  Bachelor's  1981.0      m     0   \n",
      "8640           1       1         0   Secondary  1991.0      m     0   \n",
      "\n",
      "     start_time_DI last_event_DI  nevents  ndays_act  nplay_video  nchapters  \\\n",
      "2030      11/30/12       4/22/13      8.0        1.0          NaN        1.0   \n",
      "5247      10/24/12       1/16/13   5255.0       48.0        445.0       16.0   \n",
      "3480      11/19/12       1/15/13    278.0        3.0          NaN        3.0   \n",
      "7076       8/27/12           NaN      NaN        NaN          NaN        NaN   \n",
      "8640      10/17/12       11/3/12    148.0        5.0         25.0        1.0   \n",
      "\n",
      "      nforum_posts  \n",
      "2030             0  \n",
      "5247             0  \n",
      "3480             0  \n",
      "7076             0  \n",
      "8640             0  \n"
     ]
    }
   ],
   "source": [
    "# sneak peak of our training data\n",
    "print(train_data[features].head())"
   ]
  },
  {
   "cell_type": "code",
   "execution_count": 51,
   "metadata": {},
   "outputs": [
    {
     "name": "stdout",
     "output_type": "stream",
     "text": [
      "registered         int64\n",
      "viewed             int64\n",
      "explored           int64\n",
      "LoE_DI            object\n",
      "YoB              float64\n",
      "gender            object\n",
      "grade             object\n",
      "start_time_DI     object\n",
      "last_event_DI     object\n",
      "nevents          float64\n",
      "ndays_act        float64\n",
      "nplay_video      float64\n",
      "nchapters        float64\n",
      "nforum_posts       int64\n",
      "dtype: object\n"
     ]
    }
   ],
   "source": [
    "# data types of the columns\n",
    "print(train_data[features].dtypes)"
   ]
  },
  {
   "cell_type": "markdown",
   "metadata": {},
   "source": [
    "Note that grade is shown as having decimal values but is an object/string column later. We'll have to add this to the features we will engineer later. "
   ]
  },
  {
   "cell_type": "code",
   "execution_count": 52,
   "metadata": {},
   "outputs": [
    {
     "name": "stdout",
     "output_type": "stream",
     "text": [
      "registered                                                     [1]\n",
      "viewed                                                      [1, 0]\n",
      "explored                                                    [0, 1]\n",
      "LoE_DI           [Secondary, Master's, Bachelor's, Less than Se...\n",
      "YoB              [1988.0, 1981.0, 1992.0, 1991.0, 1990.0, 1984....\n",
      "gender                                                 [m, f, nan]\n",
      "grade            [0, 0.95, 0.31, 0.6, 1, 0.92, 0.75, 0.89, 0.86...\n",
      "start_time_DI    [11/30/12, 10/24/12, 11/19/12, 8/27/12, 10/17/...\n",
      "last_event_DI    [4/22/13, 1/16/13, 1/15/13, nan, 11/3/12, 10/2...\n",
      "nevents          [8.0, 5255.0, 278.0, nan, 148.0, 1.0, 1743.0, ...\n",
      "ndays_act        [1.0, 48.0, 3.0, nan, 5.0, 22.0, 51.0, 34.0, 2...\n",
      "nplay_video      [nan, 445.0, 25.0, 129.0, 2.0, 270.0, 1828.0, ...\n",
      "nchapters        [1.0, 16.0, 3.0, nan, 9.0, 12.0, 2.0, 28.0, 6....\n",
      "nforum_posts                              [0, 1, 5, 3, 2, 6, 4, 7]\n",
      "dtype: object\n"
     ]
    }
   ],
   "source": [
    "# print the unique values in each columns\n",
    "print(train_data[features].apply(lambda col: col.unique()))"
   ]
  },
  {
   "cell_type": "code",
   "execution_count": 53,
   "metadata": {},
   "outputs": [
    {
     "name": "stdout",
     "output_type": "stream",
     "text": [
      "(7006, 14)\n"
     ]
    }
   ],
   "source": [
    "# shape of our dataset\n",
    "print(train_data[features].shape)"
   ]
  },
  {
   "cell_type": "code",
   "execution_count": 54,
   "metadata": {},
   "outputs": [
    {
     "name": "stdout",
     "output_type": "stream",
     "text": [
      "registered        0.000000\n",
      "viewed            0.000000\n",
      "explored          0.000000\n",
      "LoE_DI           10.862118\n",
      "YoB              10.362546\n",
      "gender            8.792464\n",
      "grade             4.125036\n",
      "start_time_DI     0.000000\n",
      "last_event_DI    17.028261\n",
      "nevents          18.512703\n",
      "ndays_act        18.512703\n",
      "nplay_video      76.862689\n",
      "nchapters        29.146446\n",
      "nforum_posts      0.000000\n",
      "dtype: float64\n"
     ]
    }
   ],
   "source": [
    "# see proportion of nans in each columns\n",
    "print(train_data[features].apply(lambda col: col.isna().sum()*100/len(train_data)))"
   ]
  },
  {
   "cell_type": "markdown",
   "metadata": {},
   "source": [
    "nplay_video is full of nas > 70% missing here. We'll see if the data has any correlation with our target var otherwise, it sounds worthwhile to drop this variable as a predictor. "
   ]
  },
  {
   "cell_type": "code",
   "execution_count": 55,
   "metadata": {},
   "outputs": [
    {
     "name": "stdout",
     "output_type": "stream",
     "text": [
      "Number certified: 3143 (44.86%)\n",
      "Number non-certified: 3863 (55.14%)\n"
     ]
    }
   ],
   "source": [
    "# See distribution of certified values\n",
    "cert = train_data[train_data['certified'] == 1]\n",
    "not_cert = train_data[train_data['certified'] ==0]\n",
    "\n",
    "print(f'Number certified: {len(cert)} ({len(cert) * 100.0 / len(train_data):.2f}%)')\n",
    "print(f'Number non-certified: {len(not_cert)} ({len(not_cert) * 100.0 / len(train_data):.2f}%)')"
   ]
  },
  {
   "cell_type": "markdown",
   "metadata": {},
   "source": [
    "We have a pretty good balance between certified and non-certified numbers here"
   ]
  },
  {
   "cell_type": "code",
   "execution_count": 56,
   "metadata": {},
   "outputs": [
    {
     "name": "stdout",
     "output_type": "stream",
     "text": [
      "['registered', 'viewed', 'explored', 'YoB', 'nevents', 'ndays_act', 'nplay_video', 'nchapters', 'nforum_posts']\n"
     ]
    },
    {
     "data": {
      "image/png": "[encoded data removed]",
      "text/plain": [
       "<Figure size 432x288 with 2 Axes>"
      ]
     },
     "metadata": {
      "needs_background": "light"
     },
     "output_type": "display_data"
    }
   ],
   "source": [
    "# only float or int columns and produce a heatmap\n",
    "num_cols = train_data[features].select_dtypes(include=np.number).columns.tolist()\n",
    "print(num_cols)\n",
    "sns.heatmap(train_data[features][num_cols].corr(), annot=True)\n",
    "plt.show()"
   ]
  },
  {
   "cell_type": "code",
   "execution_count": 57,
   "metadata": {
    "scrolled": true
   },
   "outputs": [
    {
     "data": {
      "text/html": [
       "<div>\n",
       "<style scoped>\n",
       "    .dataframe tbody tr th:only-of-type {\n",
       "        vertical-align: middle;\n",
       "    }\n",
       "\n",
       "    .dataframe tbody tr th {\n",
       "        vertical-align: top;\n",
       "    }\n",
       "\n",
       "    .dataframe thead th {\n",
       "        text-align: right;\n",
       "    }\n",
       "</style>\n",
       "<table border=\"1\" class=\"dataframe\">\n",
       "  <thead>\n",
       "    <tr style=\"text-align: right;\">\n",
       "      <th></th>\n",
       "      <th>registered</th>\n",
       "      <th>viewed</th>\n",
       "      <th>explored</th>\n",
       "      <th>YoB</th>\n",
       "      <th>nevents</th>\n",
       "      <th>ndays_act</th>\n",
       "      <th>nplay_video</th>\n",
       "      <th>nchapters</th>\n",
       "      <th>nforum_posts</th>\n",
       "    </tr>\n",
       "  </thead>\n",
       "  <tbody>\n",
       "    <tr>\n",
       "      <th>registered</th>\n",
       "      <td>NaN</td>\n",
       "      <td>NaN</td>\n",
       "      <td>NaN</td>\n",
       "      <td>NaN</td>\n",
       "      <td>NaN</td>\n",
       "      <td>NaN</td>\n",
       "      <td>NaN</td>\n",
       "      <td>NaN</td>\n",
       "      <td>NaN</td>\n",
       "    </tr>\n",
       "    <tr>\n",
       "      <th>viewed</th>\n",
       "      <td>NaN</td>\n",
       "      <td>1.000000</td>\n",
       "      <td>0.564746</td>\n",
       "      <td>-0.014121</td>\n",
       "      <td>0.216304</td>\n",
       "      <td>0.335358</td>\n",
       "      <td>NaN</td>\n",
       "      <td>0.039953</td>\n",
       "      <td>0.092296</td>\n",
       "    </tr>\n",
       "    <tr>\n",
       "      <th>explored</th>\n",
       "      <td>NaN</td>\n",
       "      <td>0.564746</td>\n",
       "      <td>1.000000</td>\n",
       "      <td>-0.059479</td>\n",
       "      <td>0.477613</td>\n",
       "      <td>0.710598</td>\n",
       "      <td>0.321807</td>\n",
       "      <td>0.710468</td>\n",
       "      <td>0.133175</td>\n",
       "    </tr>\n",
       "    <tr>\n",
       "      <th>YoB</th>\n",
       "      <td>NaN</td>\n",
       "      <td>-0.014121</td>\n",
       "      <td>-0.059479</td>\n",
       "      <td>1.000000</td>\n",
       "      <td>-0.108710</td>\n",
       "      <td>-0.134370</td>\n",
       "      <td>-0.088240</td>\n",
       "      <td>-0.076464</td>\n",
       "      <td>0.035443</td>\n",
       "    </tr>\n",
       "    <tr>\n",
       "      <th>nevents</th>\n",
       "      <td>NaN</td>\n",
       "      <td>0.216304</td>\n",
       "      <td>0.477613</td>\n",
       "      <td>-0.108710</td>\n",
       "      <td>1.000000</td>\n",
       "      <td>0.693119</td>\n",
       "      <td>0.837960</td>\n",
       "      <td>0.289292</td>\n",
       "      <td>0.092803</td>\n",
       "    </tr>\n",
       "    <tr>\n",
       "      <th>ndays_act</th>\n",
       "      <td>NaN</td>\n",
       "      <td>0.335358</td>\n",
       "      <td>0.710598</td>\n",
       "      <td>-0.134370</td>\n",
       "      <td>0.693119</td>\n",
       "      <td>1.000000</td>\n",
       "      <td>0.613114</td>\n",
       "      <td>0.490699</td>\n",
       "      <td>0.119665</td>\n",
       "    </tr>\n",
       "    <tr>\n",
       "      <th>nplay_video</th>\n",
       "      <td>NaN</td>\n",
       "      <td>NaN</td>\n",
       "      <td>0.321807</td>\n",
       "      <td>-0.088240</td>\n",
       "      <td>0.837960</td>\n",
       "      <td>0.613114</td>\n",
       "      <td>1.000000</td>\n",
       "      <td>0.442048</td>\n",
       "      <td>0.036803</td>\n",
       "    </tr>\n",
       "    <tr>\n",
       "      <th>nchapters</th>\n",
       "      <td>NaN</td>\n",
       "      <td>0.039953</td>\n",
       "      <td>0.710468</td>\n",
       "      <td>-0.076464</td>\n",
       "      <td>0.289292</td>\n",
       "      <td>0.490699</td>\n",
       "      <td>0.442048</td>\n",
       "      <td>1.000000</td>\n",
       "      <td>0.165796</td>\n",
       "    </tr>\n",
       "    <tr>\n",
       "      <th>nforum_posts</th>\n",
       "      <td>NaN</td>\n",
       "      <td>0.092296</td>\n",
       "      <td>0.133175</td>\n",
       "      <td>0.035443</td>\n",
       "      <td>0.092803</td>\n",
       "      <td>0.119665</td>\n",
       "      <td>0.036803</td>\n",
       "      <td>0.165796</td>\n",
       "      <td>1.000000</td>\n",
       "    </tr>\n",
       "  </tbody>\n",
       "</table>\n",
       "</div>"
      ],
      "text/plain": [
       "              registered    viewed  explored       YoB   nevents  ndays_act  \\\n",
       "registered           NaN       NaN       NaN       NaN       NaN        NaN   \n",
       "viewed               NaN  1.000000  0.564746 -0.014121  0.216304   0.335358   \n",
       "explored             NaN  0.564746  1.000000 -0.059479  0.477613   0.710598   \n",
       "YoB                  NaN -0.014121 -0.059479  1.000000 -0.108710  -0.134370   \n",
       "nevents              NaN  0.216304  0.477613 -0.108710  1.000000   0.693119   \n",
       "ndays_act            NaN  0.335358  0.710598 -0.134370  0.693119   1.000000   \n",
       "nplay_video          NaN       NaN  0.321807 -0.088240  0.837960   0.613114   \n",
       "nchapters            NaN  0.039953  0.710468 -0.076464  0.289292   0.490699   \n",
       "nforum_posts         NaN  0.092296  0.133175  0.035443  0.092803   0.119665   \n",
       "\n",
       "              nplay_video  nchapters  nforum_posts  \n",
       "registered            NaN        NaN           NaN  \n",
       "viewed                NaN   0.039953      0.092296  \n",
       "explored         0.321807   0.710468      0.133175  \n",
       "YoB             -0.088240  -0.076464      0.035443  \n",
       "nevents          0.837960   0.289292      0.092803  \n",
       "ndays_act        0.613114   0.490699      0.119665  \n",
       "nplay_video      1.000000   0.442048      0.036803  \n",
       "nchapters        0.442048   1.000000      0.165796  \n",
       "nforum_posts     0.036803   0.165796      1.000000  "
      ]
     },
     "execution_count": 57,
     "metadata": {},
     "output_type": "execute_result"
    }
   ],
   "source": [
    "cor_mat = train_data[features].corr()\n",
    "cor_mat"
   ]
  },
  {
   "cell_type": "markdown",
   "metadata": {},
   "source": [
    "Here we're going to investigate into specific features of interest starting with our last_event_DI"
   ]
  },
  {
   "cell_type": "code",
   "execution_count": 58,
   "metadata": {
    "scrolled": true
   },
   "outputs": [
    {
     "data": {
      "text/html": [
       "<div>\n",
       "<style scoped>\n",
       "    .dataframe tbody tr th:only-of-type {\n",
       "        vertical-align: middle;\n",
       "    }\n",
       "\n",
       "    .dataframe tbody tr th {\n",
       "        vertical-align: top;\n",
       "    }\n",
       "\n",
       "    .dataframe thead th {\n",
       "        text-align: right;\n",
       "    }\n",
       "</style>\n",
       "<table border=\"1\" class=\"dataframe\">\n",
       "  <thead>\n",
       "    <tr style=\"text-align: right;\">\n",
       "      <th></th>\n",
       "      <th>registered</th>\n",
       "      <th>viewed</th>\n",
       "      <th>explored</th>\n",
       "      <th>LoE_DI</th>\n",
       "      <th>YoB</th>\n",
       "      <th>gender</th>\n",
       "      <th>grade</th>\n",
       "      <th>start_time_DI</th>\n",
       "      <th>last_event_DI</th>\n",
       "      <th>nevents</th>\n",
       "      <th>ndays_act</th>\n",
       "      <th>nplay_video</th>\n",
       "      <th>nchapters</th>\n",
       "      <th>nforum_posts</th>\n",
       "    </tr>\n",
       "  </thead>\n",
       "  <tbody>\n",
       "    <tr>\n",
       "      <th>7076</th>\n",
       "      <td>1</td>\n",
       "      <td>0</td>\n",
       "      <td>0</td>\n",
       "      <td>Bachelor's</td>\n",
       "      <td>1981.0</td>\n",
       "      <td>m</td>\n",
       "      <td>0</td>\n",
       "      <td>8/27/12</td>\n",
       "      <td>NaN</td>\n",
       "      <td>NaN</td>\n",
       "      <td>NaN</td>\n",
       "      <td>NaN</td>\n",
       "      <td>NaN</td>\n",
       "      <td>0</td>\n",
       "    </tr>\n",
       "    <tr>\n",
       "      <th>4877</th>\n",
       "      <td>1</td>\n",
       "      <td>0</td>\n",
       "      <td>0</td>\n",
       "      <td>Bachelor's</td>\n",
       "      <td>1989.0</td>\n",
       "      <td>m</td>\n",
       "      <td>0</td>\n",
       "      <td>12/24/12</td>\n",
       "      <td>NaN</td>\n",
       "      <td>NaN</td>\n",
       "      <td>NaN</td>\n",
       "      <td>NaN</td>\n",
       "      <td>NaN</td>\n",
       "      <td>0</td>\n",
       "    </tr>\n",
       "    <tr>\n",
       "      <th>4749</th>\n",
       "      <td>1</td>\n",
       "      <td>0</td>\n",
       "      <td>0</td>\n",
       "      <td>Secondary</td>\n",
       "      <td>1991.0</td>\n",
       "      <td>m</td>\n",
       "      <td>0</td>\n",
       "      <td>8/7/12</td>\n",
       "      <td>NaN</td>\n",
       "      <td>NaN</td>\n",
       "      <td>NaN</td>\n",
       "      <td>NaN</td>\n",
       "      <td>NaN</td>\n",
       "      <td>0</td>\n",
       "    </tr>\n",
       "    <tr>\n",
       "      <th>783</th>\n",
       "      <td>1</td>\n",
       "      <td>0</td>\n",
       "      <td>0</td>\n",
       "      <td>Secondary</td>\n",
       "      <td>1991.0</td>\n",
       "      <td>f</td>\n",
       "      <td>NaN</td>\n",
       "      <td>7/26/13</td>\n",
       "      <td>NaN</td>\n",
       "      <td>NaN</td>\n",
       "      <td>NaN</td>\n",
       "      <td>NaN</td>\n",
       "      <td>NaN</td>\n",
       "      <td>0</td>\n",
       "    </tr>\n",
       "    <tr>\n",
       "      <th>712</th>\n",
       "      <td>1</td>\n",
       "      <td>0</td>\n",
       "      <td>0</td>\n",
       "      <td>Secondary</td>\n",
       "      <td>1995.0</td>\n",
       "      <td>f</td>\n",
       "      <td>0</td>\n",
       "      <td>12/21/12</td>\n",
       "      <td>NaN</td>\n",
       "      <td>NaN</td>\n",
       "      <td>NaN</td>\n",
       "      <td>NaN</td>\n",
       "      <td>NaN</td>\n",
       "      <td>0</td>\n",
       "    </tr>\n",
       "    <tr>\n",
       "      <th>...</th>\n",
       "      <td>...</td>\n",
       "      <td>...</td>\n",
       "      <td>...</td>\n",
       "      <td>...</td>\n",
       "      <td>...</td>\n",
       "      <td>...</td>\n",
       "      <td>...</td>\n",
       "      <td>...</td>\n",
       "      <td>...</td>\n",
       "      <td>...</td>\n",
       "      <td>...</td>\n",
       "      <td>...</td>\n",
       "      <td>...</td>\n",
       "      <td>...</td>\n",
       "    </tr>\n",
       "    <tr>\n",
       "      <th>3610</th>\n",
       "      <td>1</td>\n",
       "      <td>0</td>\n",
       "      <td>0</td>\n",
       "      <td>Secondary</td>\n",
       "      <td>1993.0</td>\n",
       "      <td>m</td>\n",
       "      <td>0</td>\n",
       "      <td>10/9/12</td>\n",
       "      <td>NaN</td>\n",
       "      <td>NaN</td>\n",
       "      <td>NaN</td>\n",
       "      <td>NaN</td>\n",
       "      <td>NaN</td>\n",
       "      <td>0</td>\n",
       "    </tr>\n",
       "    <tr>\n",
       "      <th>7452</th>\n",
       "      <td>1</td>\n",
       "      <td>0</td>\n",
       "      <td>0</td>\n",
       "      <td>NaN</td>\n",
       "      <td>NaN</td>\n",
       "      <td>NaN</td>\n",
       "      <td>0</td>\n",
       "      <td>10/1/12</td>\n",
       "      <td>NaN</td>\n",
       "      <td>NaN</td>\n",
       "      <td>NaN</td>\n",
       "      <td>NaN</td>\n",
       "      <td>NaN</td>\n",
       "      <td>0</td>\n",
       "    </tr>\n",
       "    <tr>\n",
       "      <th>3266</th>\n",
       "      <td>1</td>\n",
       "      <td>0</td>\n",
       "      <td>0</td>\n",
       "      <td>NaN</td>\n",
       "      <td>NaN</td>\n",
       "      <td>NaN</td>\n",
       "      <td>0</td>\n",
       "      <td>12/21/12</td>\n",
       "      <td>NaN</td>\n",
       "      <td>NaN</td>\n",
       "      <td>NaN</td>\n",
       "      <td>NaN</td>\n",
       "      <td>NaN</td>\n",
       "      <td>0</td>\n",
       "    </tr>\n",
       "    <tr>\n",
       "      <th>7045</th>\n",
       "      <td>1</td>\n",
       "      <td>0</td>\n",
       "      <td>0</td>\n",
       "      <td>Doctorate</td>\n",
       "      <td>1949.0</td>\n",
       "      <td>f</td>\n",
       "      <td>0</td>\n",
       "      <td>1/17/13</td>\n",
       "      <td>NaN</td>\n",
       "      <td>NaN</td>\n",
       "      <td>NaN</td>\n",
       "      <td>NaN</td>\n",
       "      <td>NaN</td>\n",
       "      <td>0</td>\n",
       "    </tr>\n",
       "    <tr>\n",
       "      <th>6462</th>\n",
       "      <td>1</td>\n",
       "      <td>0</td>\n",
       "      <td>0</td>\n",
       "      <td>Master's</td>\n",
       "      <td>1976.0</td>\n",
       "      <td>m</td>\n",
       "      <td>0</td>\n",
       "      <td>10/6/12</td>\n",
       "      <td>NaN</td>\n",
       "      <td>NaN</td>\n",
       "      <td>NaN</td>\n",
       "      <td>NaN</td>\n",
       "      <td>NaN</td>\n",
       "      <td>0</td>\n",
       "    </tr>\n",
       "  </tbody>\n",
       "</table>\n",
       "<p>1193 rows × 14 columns</p>\n",
       "</div>"
      ],
      "text/plain": [
       "      registered  viewed  explored      LoE_DI     YoB gender grade  \\\n",
       "7076           1       0         0  Bachelor's  1981.0      m     0   \n",
       "4877           1       0         0  Bachelor's  1989.0      m     0   \n",
       "4749           1       0         0   Secondary  1991.0      m     0   \n",
       "783            1       0         0   Secondary  1991.0      f   NaN   \n",
       "712            1       0         0   Secondary  1995.0      f     0   \n",
       "...          ...     ...       ...         ...     ...    ...   ...   \n",
       "3610           1       0         0   Secondary  1993.0      m     0   \n",
       "7452           1       0         0         NaN     NaN    NaN     0   \n",
       "3266           1       0         0         NaN     NaN    NaN     0   \n",
       "7045           1       0         0   Doctorate  1949.0      f     0   \n",
       "6462           1       0         0    Master's  1976.0      m     0   \n",
       "\n",
       "     start_time_DI last_event_DI  nevents  ndays_act  nplay_video  nchapters  \\\n",
       "7076       8/27/12           NaN      NaN        NaN          NaN        NaN   \n",
       "4877      12/24/12           NaN      NaN        NaN          NaN        NaN   \n",
       "4749        8/7/12           NaN      NaN        NaN          NaN        NaN   \n",
       "783        7/26/13           NaN      NaN        NaN          NaN        NaN   \n",
       "712       12/21/12           NaN      NaN        NaN          NaN        NaN   \n",
       "...            ...           ...      ...        ...          ...        ...   \n",
       "3610       10/9/12           NaN      NaN        NaN          NaN        NaN   \n",
       "7452       10/1/12           NaN      NaN        NaN          NaN        NaN   \n",
       "3266      12/21/12           NaN      NaN        NaN          NaN        NaN   \n",
       "7045       1/17/13           NaN      NaN        NaN          NaN        NaN   \n",
       "6462       10/6/12           NaN      NaN        NaN          NaN        NaN   \n",
       "\n",
       "      nforum_posts  \n",
       "7076             0  \n",
       "4877             0  \n",
       "4749             0  \n",
       "783              0  \n",
       "712              0  \n",
       "...            ...  \n",
       "3610             0  \n",
       "7452             0  \n",
       "3266             0  \n",
       "7045             0  \n",
       "6462             0  \n",
       "\n",
       "[1193 rows x 14 columns]"
      ]
     },
     "execution_count": 58,
     "metadata": {},
     "output_type": "execute_result"
    }
   ],
   "source": [
    "train_data[features].loc[(train_data['last_event_DI'].isna()) & (train_data['certified'].eq(0))]"
   ]
  },
  {
   "cell_type": "code",
   "execution_count": 59,
   "metadata": {},
   "outputs": [
    {
     "data": {
      "text/html": [
       "<div>\n",
       "<style scoped>\n",
       "    .dataframe tbody tr th:only-of-type {\n",
       "        vertical-align: middle;\n",
       "    }\n",
       "\n",
       "    .dataframe tbody tr th {\n",
       "        vertical-align: top;\n",
       "    }\n",
       "\n",
       "    .dataframe thead th {\n",
       "        text-align: right;\n",
       "    }\n",
       "</style>\n",
       "<table border=\"1\" class=\"dataframe\">\n",
       "  <thead>\n",
       "    <tr style=\"text-align: right;\">\n",
       "      <th></th>\n",
       "      <th>registered</th>\n",
       "      <th>viewed</th>\n",
       "      <th>explored</th>\n",
       "      <th>LoE_DI</th>\n",
       "      <th>YoB</th>\n",
       "      <th>gender</th>\n",
       "      <th>grade</th>\n",
       "      <th>start_time_DI</th>\n",
       "      <th>last_event_DI</th>\n",
       "      <th>nevents</th>\n",
       "      <th>ndays_act</th>\n",
       "      <th>nplay_video</th>\n",
       "      <th>nchapters</th>\n",
       "      <th>nforum_posts</th>\n",
       "    </tr>\n",
       "  </thead>\n",
       "  <tbody>\n",
       "  </tbody>\n",
       "</table>\n",
       "</div>"
      ],
      "text/plain": [
       "Empty DataFrame\n",
       "Columns: [registered, viewed, explored, LoE_DI, YoB, gender, grade, start_time_DI, last_event_DI, nevents, ndays_act, nplay_video, nchapters, nforum_posts]\n",
       "Index: []"
      ]
     },
     "execution_count": 59,
     "metadata": {},
     "output_type": "execute_result"
    }
   ],
   "source": [
    "train_data[features].loc[(train_data['last_event_DI'].isna()) & ~(train_data['certified'].eq(0))]"
   ]
  },
  {
   "cell_type": "markdown",
   "metadata": {},
   "source": [
    "Here we can presume that since last event DI is blank/missing, the student didn't interact with the course at all, therefore the nevents, ndays_act, nplay_video and nchapters are 0, (since viewed, and explored are 0 as well). It also stated in the description of the nevents that it's the number of interactions with the course, recorded in the tracking logs; blank if no interactions beyond registration. We will feature engineer this to be 0s for those variables related to the course interactions. \n",
    "\n"
   ]
  },
  {
   "cell_type": "code",
   "execution_count": 60,
   "metadata": {},
   "outputs": [
    {
     "data": {
      "text/html": [
       "<div>\n",
       "<style scoped>\n",
       "    .dataframe tbody tr th:only-of-type {\n",
       "        vertical-align: middle;\n",
       "    }\n",
       "\n",
       "    .dataframe tbody tr th {\n",
       "        vertical-align: top;\n",
       "    }\n",
       "\n",
       "    .dataframe thead th {\n",
       "        text-align: right;\n",
       "    }\n",
       "</style>\n",
       "<table border=\"1\" class=\"dataframe\">\n",
       "  <thead>\n",
       "    <tr style=\"text-align: right;\">\n",
       "      <th></th>\n",
       "      <th>registered</th>\n",
       "      <th>viewed</th>\n",
       "      <th>explored</th>\n",
       "      <th>LoE_DI</th>\n",
       "      <th>YoB</th>\n",
       "      <th>gender</th>\n",
       "      <th>grade</th>\n",
       "      <th>start_time_DI</th>\n",
       "      <th>last_event_DI</th>\n",
       "      <th>nevents</th>\n",
       "      <th>ndays_act</th>\n",
       "      <th>nplay_video</th>\n",
       "      <th>nchapters</th>\n",
       "      <th>nforum_posts</th>\n",
       "    </tr>\n",
       "  </thead>\n",
       "  <tbody>\n",
       "  </tbody>\n",
       "</table>\n",
       "</div>"
      ],
      "text/plain": [
       "Empty DataFrame\n",
       "Columns: [registered, viewed, explored, LoE_DI, YoB, gender, grade, start_time_DI, last_event_DI, nevents, ndays_act, nplay_video, nchapters, nforum_posts]\n",
       "Index: []"
      ]
     },
     "execution_count": 60,
     "metadata": {},
     "output_type": "execute_result"
    }
   ],
   "source": [
    "train_data[features].loc[(train_data['start_time_DI'].isna())]"
   ]
  },
  {
   "cell_type": "markdown",
   "metadata": {},
   "source": [
    "Looking at histogram of features by whether they are certified"
   ]
  },
  {
   "cell_type": "code",
   "execution_count": 61,
   "metadata": {},
   "outputs": [
    {
     "data": {
      "image/png": "[encoded data removed]",
      "text/plain": [
       "<Figure size 432x288 with 1 Axes>"
      ]
     },
     "metadata": {
      "needs_background": "light"
     },
     "output_type": "display_data"
    },
    {
     "data": {
      "image/png": "[encoded data removed]",
      "text/plain": [
       "<Figure size 432x288 with 1 Axes>"
      ]
     },
     "metadata": {
      "needs_background": "light"
     },
     "output_type": "display_data"
    },
    {
     "data": {
      "image/png": "[encoded data removed]",
      "text/plain": [
       "<Figure size 432x288 with 1 Axes>"
      ]
     },
     "metadata": {
      "needs_background": "light"
     },
     "output_type": "display_data"
    },
    {
     "name": "stdout",
     "output_type": "stream",
     "text": [
      "doesn't work for LoE_DI\n"
     ]
    },
    {
     "data": {
      "image/png": "[encoded data removed]",
      "text/plain": [
       "<Figure size 432x288 with 1 Axes>"
      ]
     },
     "metadata": {
      "needs_background": "light"
     },
     "output_type": "display_data"
    },
    {
     "name": "stdout",
     "output_type": "stream",
     "text": [
      "doesn't work for gender\n"
     ]
    },
    {
     "data": {
      "image/png": "[encoded data removed]",
      "text/plain": [
       "<Figure size 432x288 with 1 Axes>"
      ]
     },
     "metadata": {
      "needs_background": "light"
     },
     "output_type": "display_data"
    },
    {
     "data": {
      "image/png": "[encoded data removed]",
      "text/plain": [
       "<Figure size 432x288 with 1 Axes>"
      ]
     },
     "metadata": {
      "needs_background": "light"
     },
     "output_type": "display_data"
    },
    {
     "data": {
      "image/png": "[encoded data removed]",
      "text/plain": [
       "<Figure size 432x288 with 1 Axes>"
      ]
     },
     "metadata": {
      "needs_background": "light"
     },
     "output_type": "display_data"
    },
    {
     "data": {
      "image/png": "[encoded data removed]",
      "text/plain": [
       "<Figure size 432x288 with 1 Axes>"
      ]
     },
     "metadata": {
      "needs_background": "light"
     },
     "output_type": "display_data"
    },
    {
     "data": {
      "image/png": "[encoded data removed]",
      "text/plain": [
       "<Figure size 432x288 with 1 Axes>"
      ]
     },
     "metadata": {
      "needs_background": "light"
     },
     "output_type": "display_data"
    },
    {
     "data": {
      "image/png": "[encoded data removed]",
      "text/plain": [
       "<Figure size 432x288 with 1 Axes>"
      ]
     },
     "metadata": {
      "needs_background": "light"
     },
     "output_type": "display_data"
    },
    {
     "data": {
      "image/png": "[encoded data removed]",
      "text/plain": [
       "<Figure size 432x288 with 1 Axes>"
      ]
     },
     "metadata": {
      "needs_background": "light"
     },
     "output_type": "display_data"
    },
    {
     "data": {
      "image/png": "[encoded data removed]",
      "text/plain": [
       "<Figure size 432x288 with 1 Axes>"
      ]
     },
     "metadata": {
      "needs_background": "light"
     },
     "output_type": "display_data"
    }
   ],
   "source": [
    "for feat in features:\n",
    "    try:\n",
    "        sns.histplot(data=train_data[features].loc[train_data.certified == 1], x=feat)\n",
    "        plt.xticks(rotation=90)\n",
    "        plt.show()\n",
    "    except:\n",
    "        print(\"doesn't work for {}\".format(feat))\n"
   ]
  },
  {
   "cell_type": "code",
   "execution_count": 62,
   "metadata": {},
   "outputs": [
    {
     "data": {
      "text/plain": [
       "array([1])"
      ]
     },
     "execution_count": 62,
     "metadata": {},
     "output_type": "execute_result"
    }
   ],
   "source": [
    "train_data[features].loc[train_data.certified == 1, 'viewed'].unique()"
   ]
  },
  {
   "cell_type": "markdown",
   "metadata": {},
   "source": [
    "Or not certified"
   ]
  },
  {
   "cell_type": "code",
   "execution_count": 63,
   "metadata": {},
   "outputs": [
    {
     "data": {
      "image/png": "[encoded data removed]",
      "text/plain": [
       "<Figure size 432x288 with 1 Axes>"
      ]
     },
     "metadata": {
      "needs_background": "light"
     },
     "output_type": "display_data"
    },
    {
     "data": {
      "image/png": "[encoded data removed]",
      "text/plain": [
       "<Figure size 432x288 with 1 Axes>"
      ]
     },
     "metadata": {
      "needs_background": "light"
     },
     "output_type": "display_data"
    },
    {
     "data": {
      "image/png": "[encoded data removed]",
      "text/plain": [
       "<Figure size 432x288 with 1 Axes>"
      ]
     },
     "metadata": {
      "needs_background": "light"
     },
     "output_type": "display_data"
    },
    {
     "name": "stdout",
     "output_type": "stream",
     "text": [
      "doesn't work for LoE_DI\n"
     ]
    },
    {
     "data": {
      "image/png": "[encoded data removed]",
      "text/plain": [
       "<Figure size 432x288 with 1 Axes>"
      ]
     },
     "metadata": {
      "needs_background": "light"
     },
     "output_type": "display_data"
    },
    {
     "name": "stdout",
     "output_type": "stream",
     "text": [
      "doesn't work for gender\n",
      "doesn't work for grade\n"
     ]
    },
    {
     "data": {
      "image/png": "[encoded data removed]",
      "text/plain": [
       "<Figure size 432x288 with 1 Axes>"
      ]
     },
     "metadata": {
      "needs_background": "light"
     },
     "output_type": "display_data"
    },
    {
     "name": "stdout",
     "output_type": "stream",
     "text": [
      "doesn't work for last_event_DI\n"
     ]
    },
    {
     "data": {
      "image/png": "[encoded data removed]",
      "text/plain": [
       "<Figure size 432x288 with 1 Axes>"
      ]
     },
     "metadata": {
      "needs_background": "light"
     },
     "output_type": "display_data"
    },
    {
     "data": {
      "image/png": "[encoded data removed]",
      "text/plain": [
       "<Figure size 432x288 with 1 Axes>"
      ]
     },
     "metadata": {
      "needs_background": "light"
     },
     "output_type": "display_data"
    },
    {
     "data": {
      "image/png": "[encoded data removed]",
      "text/plain": [
       "<Figure size 432x288 with 1 Axes>"
      ]
     },
     "metadata": {
      "needs_background": "light"
     },
     "output_type": "display_data"
    },
    {
     "data": {
      "image/png": "[encoded data removed]",
      "text/plain": [
       "<Figure size 432x288 with 1 Axes>"
      ]
     },
     "metadata": {
      "needs_background": "light"
     },
     "output_type": "display_data"
    },
    {
     "data": {
      "image/png": "[encoded data removed]",
      "text/plain": [
       "<Figure size 432x288 with 1 Axes>"
      ]
     },
     "metadata": {
      "needs_background": "light"
     },
     "output_type": "display_data"
    }
   ],
   "source": [
    "for feat in features:\n",
    "    try:\n",
    "        sns.histplot(data=train_data[features].loc[train_data.certified == 0], x=feat)\n",
    "        plt.xticks(rotation=90)\n",
    "        plt.show()\n",
    "    except:\n",
    "        print(\"doesn't work for {}\".format(feat))"
   ]
  },
  {
   "cell_type": "markdown",
   "metadata": {},
   "source": []
  },
  {
   "cell_type": "markdown",
   "metadata": {},
   "source": [
    "### Feature Engineering"
   ]
  },
  {
   "cell_type": "markdown",
   "metadata": {},
   "source": [
    "Here we try some feature engineering techniques on our data. Some things to try is creating age variable from our year of birth data, creating an education level based on increasing education (less than secondary to doctorate), as well as dummy variables for gender and country where participant is from. \n",
    "\n",
    "We also try some base level imputation techniques like using the mode, mean, and/or median to fill in the NAs in the data. Special consideration was for a subset of our data where last_event_DI was blank, and it was decided to fill in \"nevents\", \"ndays_act\", \"nplay_video\", \"nchapters\" with 0s as we can presume that if they didn't access the course content (viewed, etc) they didn't have anything for any of those variables. \n",
    "\n",
    "Didn't get enough time to try out the KNN imputation technique but for future modeling improvement, might be improvement for the model"
   ]
  },
  {
   "cell_type": "code",
   "execution_count": 64,
   "metadata": {},
   "outputs": [],
   "source": [
    "def feature_engineer(input_df : pd.DataFrame, features_to_update : list = None, nan_method : str = None,\n",
    "                    feat_method : str = None, n_neighbors : int = 5) -> pd.DataFrame:\n",
    "    ''' Parameters\n",
    "        ================\n",
    "        input_data - our input training data\n",
    "        features_to_update - our list of features to process nan/feat method on\n",
    "        nan_method - what to replace nan with, Allowed values: ['mode', 'mean', 'median', 'knn']\n",
    "        feat_method - what to process for data, Allowed values: ['impute', 'encode']\n",
    "        n_neighbors - if knn in nan_method specified, how many neighbors to use\n",
    "    '''\n",
    "    input_data = input_df.copy()\n",
    "    if features_to_update is None:\n",
    "        features_to_update = list(input_data.columns)\n",
    "        \n",
    "    for feat in features_to_update:\n",
    "        if feat_method == \"encode\":\n",
    "            if feat == \"YoB\":\n",
    "                # create age variable\n",
    "                input_data['age'] = (2020 - input_data[feat]) + 1\n",
    "            elif feat == \"LoE_DI\":\n",
    "                # create variable where education level is encoded\n",
    "                edu_lvls = {\"Master's\":4, \"Bachelor's\" :3, 'Secondary':2, 'Doctorate':5,\n",
    "                           'Less than Secondary':1}\n",
    "                input_data['edu_lvl'] = input_data[feat].map(edu_lvls)\n",
    "            elif feat in ['gender', 'final_cc_cname_DI']:\n",
    "                feat_encoded = pd.get_dummies(input_data[feat])\n",
    "                input_data = input_data.drop(feat,axis = 1)\n",
    "                input_data = input_data.join(feat_encoded)\n",
    "                \n",
    "        elif feat_method == \"impute\":\n",
    "            # fill in NAs\n",
    "            input_data[feat] = input_data[feat].replace('nan', np.nan)\n",
    "            \n",
    "            # replace blanks in grade with nan values\n",
    "            if feat == \"grade\":\n",
    "                input_data.loc[input_data[feat] == \" \", feat] = np.nan\n",
    "                input_data[feat] = input_data[feat].astype(float)\n",
    "            elif feat == \"last_event_DI\":\n",
    "                replace_cols = [\"nevents\", \"ndays_act\", \"nplay_video\", \"nchapters\"]\n",
    "                train_data.loc[(train_data['last_event_DI'].isna()), replace_cols] = 0\n",
    "                \n",
    "            # replace blankk/nas with set nan method\n",
    "            if nan_method == \"mean\" and is_numeric_dtype(input_data[feat]):\n",
    "                nan_method_val = input_data[feat].mean()\n",
    "                input_data.loc[input_data[feat].isna(), feat] = nan_method_val.values[0]\n",
    "            elif nan_method == \"mode\":\n",
    "                nan_method_val = input_data[feat].mode()\n",
    "                input_data.loc[input_data[feat].isna(), feat] = nan_method_val.values[0]\n",
    "            elif nan_method == \"median\" and is_numeric_dtype(input_data[feat]):\n",
    "                nan_method_val = input_data[feat].median()\n",
    "                input_data.loc[input_data[feat].isna(), feat] = nan_method_val.values[0]\n",
    "            elif nan_method == \"knn\" and is_numeric_dtype(input_data[feat]):\n",
    "                scaler = MinMaxScaler()\n",
    "                input_data = pd.DataFrame(scaler.fit_transform(input_data), columns = input_data.columns)\n",
    "                imputer = KNNImputer(n_neighbors=n_neighbors)\n",
    "                input_data = pd.DataFrame(imputer.fit_transform(input_data),columns = input_data.columns)\n",
    "    \n",
    "    return(input_data)\n"
   ]
  },
  {
   "cell_type": "code",
   "execution_count": 65,
   "metadata": {},
   "outputs": [],
   "source": [
    "train_data = train_data[features + [target]]\n",
    "# let's impute and encode our training data\n",
    "train_stage1 = feature_engineer(input_df = train_data, \n",
    "                               features_to_update = ['gender', 'LoE_DI', 'YoB', 'grade', 'nevents', \n",
    "                                                     'ndays_act', 'nplay_video', 'nchapters', 'last_event_DI'],\n",
    "                        nan_method = \"mode\", feat_method = \"impute\")\n",
    "\n",
    "train_stage2 = feature_engineer(input_df = train_stage1, \n",
    "                        features_to_update = ['gender', 'LoE_DI', 'YoB', 'grade'],\n",
    "                        feat_method = \"encode\")\n",
    "\n",
    "# do the same for our validation data\n",
    "valid_stage1 = feature_engineer(input_df = validation_data, \n",
    "                               features_to_update = ['gender', 'LoE_DI', 'YoB', 'grade', 'nevents', \n",
    "                                                     'ndays_act', 'nplay_video', 'nchapters', 'last_event_DI'],\n",
    "                        nan_method = \"mode\", feat_method = \"impute\")\n",
    "\n",
    "valid_stage2 = feature_engineer(input_df = valid_stage1, \n",
    "                        features_to_update = ['gender', 'LoE_DI', 'YoB', 'grade'],\n",
    "                        feat_method = \"encode\")\n",
    "\n",
    "\n",
    "# do the same for our test data\n",
    "test_data_tran = feature_engineer(input_df =  test_data,\n",
    "                                  features_to_update = ['gender', 'LoE_DI', 'YoB', 'grade', 'nevents', \n",
    "                                                     'ndays_act', 'nplay_video', 'nchapters', 'last_event_DI'],\n",
    "                                  nan_method = \"mode\", feat_method = \"impute\")\n",
    "\n",
    "test_data_tran = feature_engineer(input_df = test_data_tran,\n",
    "                                  features_to_update = ['gender', 'LoE_DI', 'YoB', 'grade'],\n",
    "                                  feat_method = \"encode\")\n",
    "\n"
   ]
  },
  {
   "cell_type": "code",
   "execution_count": 66,
   "metadata": {},
   "outputs": [
    {
     "name": "stdout",
     "output_type": "stream",
     "text": [
      "registered       0.0\n",
      "viewed           0.0\n",
      "explored         0.0\n",
      "LoE_DI           0.0\n",
      "YoB              0.0\n",
      "grade            0.0\n",
      "start_time_DI    0.0\n",
      "last_event_DI    0.0\n",
      "nevents          0.0\n",
      "ndays_act        0.0\n",
      "nplay_video      0.0\n",
      "nchapters        0.0\n",
      "nforum_posts     0.0\n",
      "certified        0.0\n",
      "f                0.0\n",
      "m                0.0\n",
      "edu_lvl          0.0\n",
      "age              0.0\n",
      "dtype: float64\n"
     ]
    }
   ],
   "source": [
    "# how many NAs are in our training data\n",
    "print(train_stage2.apply(lambda col: col.isna().sum()*100/len(train_stage2)))"
   ]
  },
  {
   "cell_type": "code",
   "execution_count": 67,
   "metadata": {},
   "outputs": [
    {
     "name": "stdout",
     "output_type": "stream",
     "text": [
      "course_id            0.0\n",
      "userid_DI            0.0\n",
      "registered           0.0\n",
      "viewed               0.0\n",
      "explored             0.0\n",
      "final_cc_cname_DI    0.0\n",
      "LoE_DI               0.0\n",
      "YoB                  0.0\n",
      "grade                0.0\n",
      "start_time_DI        0.0\n",
      "last_event_DI        0.0\n",
      "nevents              0.0\n",
      "ndays_act            0.0\n",
      "nplay_video          0.0\n",
      "nchapters            0.0\n",
      "nforum_posts         0.0\n",
      "f                    0.0\n",
      "m                    0.0\n",
      "edu_lvl              0.0\n",
      "age                  0.0\n",
      "dtype: float64\n"
     ]
    }
   ],
   "source": [
    "# how many NAs are left in our testing data\n",
    "print(test_data_tran.apply(lambda col: col.isna().sum()*100/len(test_data_tran)))"
   ]
  },
  {
   "cell_type": "code",
   "execution_count": 68,
   "metadata": {},
   "outputs": [
    {
     "data": {
      "text/html": [
       "<div>\n",
       "<style scoped>\n",
       "    .dataframe tbody tr th:only-of-type {\n",
       "        vertical-align: middle;\n",
       "    }\n",
       "\n",
       "    .dataframe tbody tr th {\n",
       "        vertical-align: top;\n",
       "    }\n",
       "\n",
       "    .dataframe thead th {\n",
       "        text-align: right;\n",
       "    }\n",
       "</style>\n",
       "<table border=\"1\" class=\"dataframe\">\n",
       "  <thead>\n",
       "    <tr style=\"text-align: right;\">\n",
       "      <th></th>\n",
       "      <th>grade</th>\n",
       "      <th>nevents</th>\n",
       "      <th>ndays_act</th>\n",
       "      <th>nplay_video</th>\n",
       "      <th>nchapters</th>\n",
       "      <th>certified</th>\n",
       "      <th>YoB</th>\n",
       "    </tr>\n",
       "  </thead>\n",
       "  <tbody>\n",
       "    <tr>\n",
       "      <th>grade</th>\n",
       "      <td>1.000000</td>\n",
       "      <td>0.503464</td>\n",
       "      <td>0.741085</td>\n",
       "      <td>0.483352</td>\n",
       "      <td>0.699449</td>\n",
       "      <td>0.976876</td>\n",
       "      <td>-0.019294</td>\n",
       "    </tr>\n",
       "    <tr>\n",
       "      <th>nevents</th>\n",
       "      <td>0.503464</td>\n",
       "      <td>1.000000</td>\n",
       "      <td>0.711719</td>\n",
       "      <td>0.852091</td>\n",
       "      <td>0.371307</td>\n",
       "      <td>0.502443</td>\n",
       "      <td>-0.104133</td>\n",
       "    </tr>\n",
       "    <tr>\n",
       "      <th>ndays_act</th>\n",
       "      <td>0.741085</td>\n",
       "      <td>0.711719</td>\n",
       "      <td>1.000000</td>\n",
       "      <td>0.669505</td>\n",
       "      <td>0.592679</td>\n",
       "      <td>0.729028</td>\n",
       "      <td>-0.126029</td>\n",
       "    </tr>\n",
       "    <tr>\n",
       "      <th>nplay_video</th>\n",
       "      <td>0.483352</td>\n",
       "      <td>0.852091</td>\n",
       "      <td>0.669505</td>\n",
       "      <td>1.000000</td>\n",
       "      <td>0.539414</td>\n",
       "      <td>0.458148</td>\n",
       "      <td>-0.096089</td>\n",
       "    </tr>\n",
       "    <tr>\n",
       "      <th>nchapters</th>\n",
       "      <td>0.699449</td>\n",
       "      <td>0.371307</td>\n",
       "      <td>0.592679</td>\n",
       "      <td>0.539414</td>\n",
       "      <td>1.000000</td>\n",
       "      <td>0.756906</td>\n",
       "      <td>-0.075893</td>\n",
       "    </tr>\n",
       "    <tr>\n",
       "      <th>certified</th>\n",
       "      <td>0.976876</td>\n",
       "      <td>0.502443</td>\n",
       "      <td>0.729028</td>\n",
       "      <td>0.458148</td>\n",
       "      <td>0.756906</td>\n",
       "      <td>1.000000</td>\n",
       "      <td>-0.019057</td>\n",
       "    </tr>\n",
       "    <tr>\n",
       "      <th>YoB</th>\n",
       "      <td>-0.019294</td>\n",
       "      <td>-0.104133</td>\n",
       "      <td>-0.126029</td>\n",
       "      <td>-0.096089</td>\n",
       "      <td>-0.075893</td>\n",
       "      <td>-0.019057</td>\n",
       "      <td>1.000000</td>\n",
       "    </tr>\n",
       "  </tbody>\n",
       "</table>\n",
       "</div>"
      ],
      "text/plain": [
       "                grade   nevents  ndays_act  nplay_video  nchapters  certified  \\\n",
       "grade        1.000000  0.503464   0.741085     0.483352   0.699449   0.976876   \n",
       "nevents      0.503464  1.000000   0.711719     0.852091   0.371307   0.502443   \n",
       "ndays_act    0.741085  0.711719   1.000000     0.669505   0.592679   0.729028   \n",
       "nplay_video  0.483352  0.852091   0.669505     1.000000   0.539414   0.458148   \n",
       "nchapters    0.699449  0.371307   0.592679     0.539414   1.000000   0.756906   \n",
       "certified    0.976876  0.502443   0.729028     0.458148   0.756906   1.000000   \n",
       "YoB         -0.019294 -0.104133  -0.126029    -0.096089  -0.075893  -0.019057   \n",
       "\n",
       "                  YoB  \n",
       "grade       -0.019294  \n",
       "nevents     -0.104133  \n",
       "ndays_act   -0.126029  \n",
       "nplay_video -0.096089  \n",
       "nchapters   -0.075893  \n",
       "certified   -0.019057  \n",
       "YoB          1.000000  "
      ]
     },
     "execution_count": 68,
     "metadata": {},
     "output_type": "execute_result"
    }
   ],
   "source": [
    "# update grade here in train_data to see corr before and after imputation for grade\n",
    "# looking at the correlation of the updated features in our original training data\n",
    "\n",
    "train_data.loc[train_data[\"grade\"] == \" \", \"grade\"] = np.nan\n",
    "train_data[\"grade\"] = train_data[\"grade\"].astype(float)\n",
    "cor_mat = train_data[['grade', 'nevents', \n",
    "                      'ndays_act', 'nplay_video', 'nchapters', 'certified','LoE_DI', 'YoB']].corr()\n",
    "cor_mat"
   ]
  },
  {
   "cell_type": "code",
   "execution_count": 69,
   "metadata": {},
   "outputs": [
    {
     "data": {
      "text/html": [
       "<div>\n",
       "<style scoped>\n",
       "    .dataframe tbody tr th:only-of-type {\n",
       "        vertical-align: middle;\n",
       "    }\n",
       "\n",
       "    .dataframe tbody tr th {\n",
       "        vertical-align: top;\n",
       "    }\n",
       "\n",
       "    .dataframe thead th {\n",
       "        text-align: right;\n",
       "    }\n",
       "</style>\n",
       "<table border=\"1\" class=\"dataframe\">\n",
       "  <thead>\n",
       "    <tr style=\"text-align: right;\">\n",
       "      <th></th>\n",
       "      <th>grade</th>\n",
       "      <th>nevents</th>\n",
       "      <th>ndays_act</th>\n",
       "      <th>nplay_video</th>\n",
       "      <th>nchapters</th>\n",
       "      <th>certified</th>\n",
       "      <th>f</th>\n",
       "      <th>m</th>\n",
       "      <th>edu_lvl</th>\n",
       "      <th>age</th>\n",
       "    </tr>\n",
       "  </thead>\n",
       "  <tbody>\n",
       "    <tr>\n",
       "      <th>grade</th>\n",
       "      <td>1.000000</td>\n",
       "      <td>0.513379</td>\n",
       "      <td>0.746225</td>\n",
       "      <td>0.281298</td>\n",
       "      <td>0.518284</td>\n",
       "      <td>0.977762</td>\n",
       "      <td>0.016508</td>\n",
       "      <td>-0.016508</td>\n",
       "      <td>0.100343</td>\n",
       "      <td>0.017345</td>\n",
       "    </tr>\n",
       "    <tr>\n",
       "      <th>nevents</th>\n",
       "      <td>0.513379</td>\n",
       "      <td>1.000000</td>\n",
       "      <td>0.713385</td>\n",
       "      <td>0.832869</td>\n",
       "      <td>0.284028</td>\n",
       "      <td>0.505109</td>\n",
       "      <td>0.132697</td>\n",
       "      <td>-0.132697</td>\n",
       "      <td>0.239268</td>\n",
       "      <td>0.101976</td>\n",
       "    </tr>\n",
       "    <tr>\n",
       "      <th>ndays_act</th>\n",
       "      <td>0.746225</td>\n",
       "      <td>0.713385</td>\n",
       "      <td>1.000000</td>\n",
       "      <td>0.463999</td>\n",
       "      <td>0.446094</td>\n",
       "      <td>0.728639</td>\n",
       "      <td>0.017794</td>\n",
       "      <td>-0.017794</td>\n",
       "      <td>0.166075</td>\n",
       "      <td>0.113770</td>\n",
       "    </tr>\n",
       "    <tr>\n",
       "      <th>nplay_video</th>\n",
       "      <td>0.281298</td>\n",
       "      <td>0.832869</td>\n",
       "      <td>0.463999</td>\n",
       "      <td>1.000000</td>\n",
       "      <td>0.059245</td>\n",
       "      <td>0.258762</td>\n",
       "      <td>0.088414</td>\n",
       "      <td>-0.088414</td>\n",
       "      <td>0.171522</td>\n",
       "      <td>0.064334</td>\n",
       "    </tr>\n",
       "    <tr>\n",
       "      <th>nchapters</th>\n",
       "      <td>0.518284</td>\n",
       "      <td>0.284028</td>\n",
       "      <td>0.446094</td>\n",
       "      <td>0.059245</td>\n",
       "      <td>1.000000</td>\n",
       "      <td>0.572220</td>\n",
       "      <td>0.022212</td>\n",
       "      <td>-0.022212</td>\n",
       "      <td>0.054735</td>\n",
       "      <td>0.055748</td>\n",
       "    </tr>\n",
       "    <tr>\n",
       "      <th>certified</th>\n",
       "      <td>0.977762</td>\n",
       "      <td>0.505109</td>\n",
       "      <td>0.728639</td>\n",
       "      <td>0.258762</td>\n",
       "      <td>0.572220</td>\n",
       "      <td>1.000000</td>\n",
       "      <td>0.028872</td>\n",
       "      <td>-0.028872</td>\n",
       "      <td>0.095819</td>\n",
       "      <td>0.017509</td>\n",
       "    </tr>\n",
       "    <tr>\n",
       "      <th>f</th>\n",
       "      <td>0.016508</td>\n",
       "      <td>0.132697</td>\n",
       "      <td>0.017794</td>\n",
       "      <td>0.088414</td>\n",
       "      <td>0.022212</td>\n",
       "      <td>0.028872</td>\n",
       "      <td>1.000000</td>\n",
       "      <td>-1.000000</td>\n",
       "      <td>0.092995</td>\n",
       "      <td>0.045318</td>\n",
       "    </tr>\n",
       "    <tr>\n",
       "      <th>m</th>\n",
       "      <td>-0.016508</td>\n",
       "      <td>-0.132697</td>\n",
       "      <td>-0.017794</td>\n",
       "      <td>-0.088414</td>\n",
       "      <td>-0.022212</td>\n",
       "      <td>-0.028872</td>\n",
       "      <td>-1.000000</td>\n",
       "      <td>1.000000</td>\n",
       "      <td>-0.092995</td>\n",
       "      <td>-0.045318</td>\n",
       "    </tr>\n",
       "    <tr>\n",
       "      <th>edu_lvl</th>\n",
       "      <td>0.100343</td>\n",
       "      <td>0.239268</td>\n",
       "      <td>0.166075</td>\n",
       "      <td>0.171522</td>\n",
       "      <td>0.054735</td>\n",
       "      <td>0.095819</td>\n",
       "      <td>0.092995</td>\n",
       "      <td>-0.092995</td>\n",
       "      <td>1.000000</td>\n",
       "      <td>0.517775</td>\n",
       "    </tr>\n",
       "    <tr>\n",
       "      <th>age</th>\n",
       "      <td>0.017345</td>\n",
       "      <td>0.101976</td>\n",
       "      <td>0.113770</td>\n",
       "      <td>0.064334</td>\n",
       "      <td>0.055748</td>\n",
       "      <td>0.017509</td>\n",
       "      <td>0.045318</td>\n",
       "      <td>-0.045318</td>\n",
       "      <td>0.517775</td>\n",
       "      <td>1.000000</td>\n",
       "    </tr>\n",
       "  </tbody>\n",
       "</table>\n",
       "</div>"
      ],
      "text/plain": [
       "                grade   nevents  ndays_act  nplay_video  nchapters  certified  \\\n",
       "grade        1.000000  0.513379   0.746225     0.281298   0.518284   0.977762   \n",
       "nevents      0.513379  1.000000   0.713385     0.832869   0.284028   0.505109   \n",
       "ndays_act    0.746225  0.713385   1.000000     0.463999   0.446094   0.728639   \n",
       "nplay_video  0.281298  0.832869   0.463999     1.000000   0.059245   0.258762   \n",
       "nchapters    0.518284  0.284028   0.446094     0.059245   1.000000   0.572220   \n",
       "certified    0.977762  0.505109   0.728639     0.258762   0.572220   1.000000   \n",
       "f            0.016508  0.132697   0.017794     0.088414   0.022212   0.028872   \n",
       "m           -0.016508 -0.132697  -0.017794    -0.088414  -0.022212  -0.028872   \n",
       "edu_lvl      0.100343  0.239268   0.166075     0.171522   0.054735   0.095819   \n",
       "age          0.017345  0.101976   0.113770     0.064334   0.055748   0.017509   \n",
       "\n",
       "                    f         m   edu_lvl       age  \n",
       "grade        0.016508 -0.016508  0.100343  0.017345  \n",
       "nevents      0.132697 -0.132697  0.239268  0.101976  \n",
       "ndays_act    0.017794 -0.017794  0.166075  0.113770  \n",
       "nplay_video  0.088414 -0.088414  0.171522  0.064334  \n",
       "nchapters    0.022212 -0.022212  0.054735  0.055748  \n",
       "certified    0.028872 -0.028872  0.095819  0.017509  \n",
       "f            1.000000 -1.000000  0.092995  0.045318  \n",
       "m           -1.000000  1.000000 -0.092995 -0.045318  \n",
       "edu_lvl      0.092995 -0.092995  1.000000  0.517775  \n",
       "age          0.045318 -0.045318  0.517775  1.000000  "
      ]
     },
     "execution_count": 69,
     "metadata": {},
     "output_type": "execute_result"
    }
   ],
   "source": [
    "# looking at the correlation of the updated features in our training data\n",
    "cor_mat = train_stage2[['LoE_DI', 'grade', 'nevents', \n",
    "                      'ndays_act', 'nplay_video', 'nchapters', 'certified', 'f', 'm', 'edu_lvl', 'age']].corr()\n",
    "cor_mat"
   ]
  },
  {
   "cell_type": "markdown",
   "metadata": {},
   "source": [
    "As a result of imputation of NAs using mode method, it looks like the correlations with certified (our target variable) haven't really improved much and the correlation with nplay_video decreased. nchapters seemed to have the greatest improvement after imputation. Adding age didn't seemed to add much explantary value to the data. "
   ]
  },
  {
   "cell_type": "markdown",
   "metadata": {},
   "source": [
    "## Feature Selection"
   ]
  },
  {
   "cell_type": "markdown",
   "metadata": {},
   "source": [
    "Here we use a base level feature selection method called recursive feature elimination.\n",
    "\n",
    "It's given an external estimator that assigns weights to features, and the goal of recursive feature elimination (RFE) is to select features by recursively considering smaller and smaller sets of features. Here we use Random Forest as our external estimator to assign weights to features. "
   ]
  },
  {
   "cell_type": "code",
   "execution_count": 70,
   "metadata": {},
   "outputs": [],
   "source": [
    "# here are the best features we have decided to use\n",
    "best_features = [\"viewed\", \n",
    "                 \"explored\",\n",
    "                 \"nevents\",\n",
    "                 #\"nplay_video\",\n",
    "                 \"grade\",\n",
    "                 #\"ndays_act\",\n",
    "                 \"nchapters\",\n",
    "                 \"nforum_posts\",\n",
    "                 #\"age\",\n",
    "                 #\"f\",\n",
    "                 #\"m\",\n",
    "                 #'edu_lvl'\n",
    "                ]\n",
    "\n",
    "target = 'certified'"
   ]
  },
  {
   "cell_type": "markdown",
   "metadata": {},
   "source": [
    "Reasoning for the features selected: \n",
    "\n",
    "#### viewed: Generally we saw a correlation between someone having viewed the page\n",
    "#### explored: Generally saw a trend with more exploration as the grade goes up and with certified vs non-certified people\n",
    "#### nevents: Generally saw a trend with more events as the grade goes up and with certified vs non-certified people\n",
    "#### nplay_video: We removed this because we believe that there were too many missing data points to keep this (> 70% of the training data missing)\n",
    "#### grade: Grade of someone in the class has the strongest correlation/explanation for whether someone is certified as seen by the histograms and the correlation matrix\n",
    "#### ndays_act: Generally saw a trend with more days using the site as the grade goes up and with certified vs non-certified people\n",
    "#### nchapters: Generally saw a trend with more chapters viewed as the grade goes up and with certified vs non-certified people\n",
    "#### nforum_posts: Generally saw a trend with more forum posts as the grade goes up and with certified vs non-certified people\n",
    "\n",
    "We removed some of the more repetitive variables like ndays act. "
   ]
  },
  {
   "cell_type": "code",
   "execution_count": 71,
   "metadata": {},
   "outputs": [],
   "source": [
    "from sklearn import decomposition\n",
    "\n",
    "num_cols_new = train_stage2.select_dtypes(include=np.number).columns.tolist()\n",
    "pca = decomposition.PCA(n_components=len(num_cols_new))\n",
    "pca.fit(train_stage2[num_cols_new].to_numpy())\n",
    "Z = pca.transform(train_stage2[num_cols_new].to_numpy())"
   ]
  },
  {
   "cell_type": "code",
   "execution_count": 72,
   "metadata": {},
   "outputs": [
    {
     "name": "stdout",
     "output_type": "stream",
     "text": [
      "[9.84351404e-01 1.55898674e-02 2.72943919e-05 2.34629228e-05\n",
      " 7.76122477e-06 7.57080960e-08 6.14235257e-08 4.26010021e-08\n",
      " 1.36977327e-08 1.11538384e-08 5.22946500e-09 6.04396841e-10\n",
      " 5.93942093e-35 3.48608726e-39 0.00000000e+00]\n"
     ]
    }
   ],
   "source": [
    "print(pca.explained_variance_ratio_)"
   ]
  },
  {
   "cell_type": "markdown",
   "metadata": {},
   "source": [
    "Conclusion from above: majority of the variation in our data can be explained by just two variables (98.4% from just one (looks like it would be the grade variable))"
   ]
  },
  {
   "cell_type": "code",
   "execution_count": 73,
   "metadata": {},
   "outputs": [
    {
     "name": "stdout",
     "output_type": "stream",
     "text": [
      "[[0.000e+00 8.000e+00 0.000e+00]\n",
      " [1.000e+00 5.255e+03 9.500e-01]\n",
      " [0.000e+00 2.780e+02 3.100e-01]\n",
      " ...\n",
      " [1.000e+00 3.934e+03 9.400e-01]\n",
      " [0.000e+00 1.520e+02 0.000e+00]\n",
      " [1.000e+00 4.190e+03 7.300e-01]] [[1.000e+00 7.510e+02 8.900e-01]\n",
      " [1.000e+00 1.214e+03 6.000e-01]\n",
      " [0.000e+00 7.450e+02 3.000e-02]\n",
      " ...\n",
      " [1.000e+00 2.028e+03 8.200e-01]\n",
      " [0.000e+00 2.390e+02 1.000e-02]\n",
      " [0.000e+00 6.100e+01 0.000e+00]] [[1.000e+00 1.320e+02 1.000e+00]\n",
      " [0.000e+00 1.000e+00 0.000e+00]\n",
      " [1.000e+00 2.650e+03 8.100e-01]\n",
      " ...\n",
      " [0.000e+00 1.198e+03 2.000e-02]\n",
      " [0.000e+00 1.900e+02 7.300e-01]\n",
      " [0.000e+00 3.400e+01 0.000e+00]]\n"
     ]
    }
   ],
   "source": [
    "from sklearn.feature_selection import RFE\n",
    "\n",
    "def feature_selection(input_data : pd.DataFrame, n_feat : int, n_estimators : int,\n",
    "                     features : list, target : str, test_data : pd.DataFrame = None, use_test : bool = False):\n",
    "    ''' Parameters:\n",
    "        =====================\n",
    "        train_data - input training data\n",
    "        n_feat - number of features to select as best\n",
    "        n_estimators - using random forest as our model to select features from\n",
    "        features - our features to select from\n",
    "        target - our target variable\n",
    "        test_data - our test data to transform\n",
    "        use_test - whether to use our test data or not\n",
    "        \n",
    "        Returns: predictor data with features selected\n",
    "    '''\n",
    "    \n",
    "    #use the random forest as the model\n",
    "\n",
    "    model = RandomForestClassifier(random_state=6, n_estimators=n_estimators)\n",
    "    rfe_tree = RFE(estimator=model, n_features_to_select=n_feat, step=1)\n",
    "    X_rfe_tree = rfe_tree.fit_transform(input_data[features].to_numpy(), \n",
    "                                                  input_data[target].to_numpy())\n",
    "    if use_test:\n",
    "        Y_test_rfe_tree = rfe_tree.transform(test_data[features].to_numpy())\n",
    "        return({\"input_data\":X_rfe_tree, \"test_data\":Y_test_rfe_tree})\n",
    "    else:\n",
    "        return(X_rfe_tree)\n",
    "\n",
    "\n",
    "# use for later model training/predicting\n",
    "X_train_w_select = feature_selection(input_data = train_stage2, n_feat = 3, n_estimators = 50,\n",
    "                            features = best_features, target = \"certified\")\n",
    "\n",
    "X_valid_w_select = feature_selection(input_data = valid_stage2, n_feat = 3, n_estimators = 50,\n",
    "                            features = best_features, target = \"certified\")\n",
    "    \n",
    "X_test_w_select = feature_selection(input_data = train_stage2, n_feat = 3, n_estimators = 50,\n",
    "                                    features = best_features, target = \"certified\", test_data = test_data_tran,\n",
    "                                    use_test = True)['test_data']\n",
    "\n",
    "print(X_train_w_select, X_valid_w_select, X_test_w_select)"
   ]
  },
  {
   "cell_type": "markdown",
   "metadata": {},
   "source": [
    "## Training models"
   ]
  },
  {
   "cell_type": "markdown",
   "metadata": {},
   "source": [
    "### Parameter Selection by Model\n",
    "Here we use GridSearch to find the best params by model using a set amount of parameters"
   ]
  },
  {
   "cell_type": "code",
   "execution_count": 74,
   "metadata": {},
   "outputs": [],
   "source": [
    "# search best params\n",
    "\n",
    "\n",
    "def find_best_model_params(model : object, train_feat : pd.DataFrame,\n",
    "                           train_target : pd.DataFrame, hyperparams : dict,\n",
    "                           cv : int) -> dict:\n",
    "    ''' Parameters:\n",
    "        ================\n",
    "        model : selected model\n",
    "        train_feat: features for use\n",
    "        train_target: our target var\n",
    "        hyper_params : dictionary of the parameters with possible values by model\n",
    "        cv : parameter of Grid Search\n",
    "        \n",
    "        Returns: model parameters\n",
    "    '''\n",
    "    if isinstance(train_feat, pd.DataFrame):\n",
    "        train_df = train_feat.to_numpy()\n",
    "    else:\n",
    "        train_df = train_feat.copy()\n",
    "    search = GridSearchCV(estimator = model,\n",
    "                          param_grid=hyperparams,\n",
    "                          return_train_score=True,\n",
    "                          cv = cv).fit(X = train_df, \n",
    "                                      y = train_target.to_numpy())\n",
    "    return(search.best_params_)\n",
    "\n",
    "\n",
    "decision_params = {\"min_samples_leaf\": [1, 10, 50, 100, 200, 300], \n",
    "                   \"max_depth\":[1, 5, 10, 15, 20]}\n",
    "\n",
    "rand_params = {\"min_samples_leaf\": [1, 10, 50, 100, 200, 300], \n",
    "                   \"max_depth\":[1, 5, 10, 15, 20],\n",
    "                   \"n_estimators\":[10, 20, 50, 100]}\n",
    "\n",
    "ada_params = {\"base_estimator\": [DecisionTreeClassifier()], \n",
    "                   \"n_estimators\":[10, 20, 50, 100],\n",
    "                   \"learning_rate\":[1, 2, 3, 4, 5]}\n",
    "\n",
    "knn_params = {\"n_neighbors\":[1,2,3,4,5,6,7,8,9,10]}\n",
    "\n",
    "\n",
    "\n",
    "# without feature selection\n",
    "best_params_decision = find_best_model_params(model = DecisionTreeClassifier(), \n",
    "                                              train_feat=train_stage2[best_features], \n",
    "                                     train_target = train_stage2['certified'], \n",
    "                                     hyperparams = decision_params, cv = 6)\n",
    "\n",
    "best_params_rand = find_best_model_params(model = RandomForestClassifier(), \n",
    "                                          train_feat=train_stage2[best_features], \n",
    "                                     train_target = train_stage2['certified'], \n",
    "                                     hyperparams = rand_params, cv = 6)\n",
    "\n",
    "best_params_ada = find_best_model_params(model = AdaBoostClassifier(), \n",
    "                                         train_feat=train_stage2[best_features], \n",
    "                                     train_target = train_stage2['certified'], \n",
    "                                     hyperparams = ada_params, cv = 6)\n",
    "\n",
    "best_params_knn = find_best_model_params(model = KNeighborsClassifier(), \n",
    "                                         train_feat=train_stage2[best_features], \n",
    "                                     train_target = train_stage2['certified'], \n",
    "                                     hyperparams = knn_params, cv = 6)\n"
   ]
  },
  {
   "cell_type": "code",
   "execution_count": 75,
   "metadata": {},
   "outputs": [],
   "source": [
    "# for the with feature selection\n",
    "best_params_decision_w_select = find_best_model_params(model = DecisionTreeClassifier(), \n",
    "                                              train_feat=X_train_w_select, \n",
    "                                     train_target = train_stage2['certified'], \n",
    "                                     hyperparams = decision_params, cv = 6)\n",
    "\n",
    "best_params_rand_w_select = find_best_model_params(model = RandomForestClassifier(), \n",
    "                                          train_feat=X_train_w_select, \n",
    "                                     train_target = train_stage2['certified'], \n",
    "                                     hyperparams = rand_params, cv = 6)\n",
    "\n",
    "best_params_ada_w_select = find_best_model_params(model = AdaBoostClassifier(), \n",
    "                                         train_feat=X_train_w_select, \n",
    "                                     train_target = train_stage2['certified'], \n",
    "                                     hyperparams = ada_params, cv = 6)\n",
    "\n",
    "best_params_knn_w_select = find_best_model_params(model = KNeighborsClassifier(), \n",
    "                                         train_feat=X_train_w_select, \n",
    "                                     train_target = train_stage2['certified'], \n",
    "                                     hyperparams = knn_params, cv = 6)\n"
   ]
  },
  {
   "cell_type": "markdown",
   "metadata": {},
   "source": [
    "### Model Evaluation and Results"
   ]
  },
  {
   "cell_type": "code",
   "execution_count": 76,
   "metadata": {},
   "outputs": [],
   "source": [
    "def train_and_evaluate_model(model : object,\n",
    "                             model_type : str,\n",
    "                             X_train : pd.DataFrame, y_train : pd.DataFrame, \n",
    "                             X_valid : pd.DataFrame, y_valid : pd.DataFrame,\n",
    "                             model_params : dict,\n",
    "                             run_test : bool = False, \n",
    "                             X_test : pd.DataFrame = None, \n",
    "                             y_test : pd.DataFrame = None,\n",
    "                             return_pred : bool = False) -> pd.DataFrame:\n",
    "    ''' Parameters:\n",
    "        =============\n",
    "        model_type - Allowed values: ['decision', \"randomforest\",'adaboost']\n",
    "        model_params - input parameters for specific model of your choice\n",
    "        X_train - training input data with selected features\n",
    "        y_train - training data with target variable\n",
    "        X_valid - validation input data with selected features\n",
    "        y_valid - validation data with target variable\n",
    "        run_test - whether to run model prediction for testing data, Allowed Values: [True, False]\n",
    "        X_test - testing input data with selected features, Optional if run_test is False\n",
    "        y_test - testing data with target variable, Optional if run_test is False\n",
    "        \n",
    "        Returns: root mean square error of the predicted target values with the \n",
    "                actual target values (depends on rmse_type)\n",
    "    '''\n",
    "    assert model_type in ['decision', \"randomforest\",'adaboost', 'knn'], \\\n",
    "        \"model_type can only be a value in ['decision', 'randomforest','adaboost', 'knn']\"\n",
    "\n",
    "    assert len(model_params) > 0, \\\n",
    "        \"Empty input parameter list\"\n",
    "    \n",
    "    try:\n",
    "        assert not any(x.empty for x in [X_train, y_train, X_valid, y_valid]),\\\n",
    "            \"Empty input data out of X_train, y_train, X_valid, and/or y_valid\"\n",
    "    except:\n",
    "        pass\n",
    "\n",
    "    model_data = pd.DataFrame()\n",
    "    \n",
    "    model_eval_dict = {'model_type':[], \n",
    "                       'model':[], 'train_score':[], \n",
    "                       'validation_score':[]}\n",
    "\n",
    "    if run_test:\n",
    "        try:\n",
    "            assert not any(x.empty for x in [X_test, y_test]),\\\n",
    "                \"Empty input data out of X_test, y_test\"\n",
    "        except:\n",
    "            pass\n",
    "\n",
    "    # helper function for validating classification accuracy\n",
    "    def _calculate_accuracy(model, model_dict : dict, valid_type : str, \n",
    "                        X_eval : pd.DataFrame, y_eval : pd.DataFrame) -> dict:\n",
    "        ''' Parameters:\n",
    "        ===============\n",
    "        model - input model, can be of sklearn object type Lasso or Ridge\n",
    "        model_dict - input dict of model param and evaluations\n",
    "        valid_type - allows different rmse to be calculated, Allowed values: ['test', 'train', 'validation]\n",
    "        X_eval - input data with selected features to predict with\n",
    "        y_eval - data with target variable to evaluate predicted values against\n",
    "        '''\n",
    "        assert valid_type in ['test', 'train', 'validation'], \\\n",
    "        \"valid_type can only be a value in ['test', 'train', 'validation']\"\n",
    "        \n",
    "        if isinstance(X_eval, pd.DataFrame):\n",
    "            y_pred = model.predict(X_eval.to_numpy())\n",
    "            y_pred_prob = model.predict_proba(X_eval.to_numpy())\n",
    "        else:\n",
    "            y_pred = model.predict(X_eval)\n",
    "            y_pred_prob = model.predict_proba(X_eval)\n",
    "            \n",
    "        if valid_type == \"test\":\n",
    "            model_dict['{}_score'.format(valid_type)] = \"TBD\"\n",
    "        else:\n",
    "            accuracy = accuracy_score(y_true = y_eval.to_numpy(), y_pred = y_pred)\n",
    "            model_dict['{}_score'.format(valid_type)].append(accuracy)\n",
    "        return({\"score\":model_dict, \"predictions\":y_pred, 'predict_prob':y_pred_prob})\n",
    "    \n",
    "\n",
    "    # define model from sklern by specified model_type\n",
    "    if isinstance(X_train, pd.DataFrame):\n",
    "        fit_model = model(**model_params).fit(X_train.to_numpy(), y_train.to_numpy())\n",
    "    else:\n",
    "        fit_model = model(**model_params).fit(X_train, y_train.to_numpy())\n",
    "\n",
    "    # save model, <model_type>, and train, validation and optional test accurace scores to dict\n",
    "    model_eval_dict['model'].append(fit_model)\n",
    "    model_eval_dict['model_type'] = model_type\n",
    "    train_pred = _calculate_accuracy(fit_model, model_dict = model_eval_dict, \n",
    "                                 valid_type = \"train\", X_eval = X_train, y_eval = y_train)\n",
    "    model_eval_dict = train_pred['score']\n",
    "    \n",
    "    # save validation accuracies\n",
    "    valid_pred = _calculate_accuracy(fit_model, model_dict = model_eval_dict, \n",
    "                                 valid_type = \"validation\", X_eval = X_valid, y_eval = y_valid)\n",
    "    model_eval_dict = valid_pred['score']\n",
    "    \n",
    "    if run_test: # only calculate test rmse if specified\n",
    "        test_pred = _calculate_accuracy(fit_model, model_dict = model_eval_dict, \n",
    "                                 valid_type = \"test\", X_eval = X_test, y_eval = y_test)\n",
    "        model_eval_dict = test_pred['score']\n",
    "        model_eval_dict['pred'] = test_pred['predictions']\n",
    "    \n",
    "    # returns all predictions if selected\n",
    "    if return_pred:\n",
    "        return_dict = {\"validate_pred\":valid_pred['predictions'],\n",
    "                       \"train_pred\":train_pred['predictions'],\n",
    "                       \"validate_pred_prob\":valid_pred['predict_prob'],\n",
    "                       \"train_pred_prob\":train_pred['predict_prob'],\n",
    "                       \"model_eval_dict\":model_eval_dict}\n",
    "        if run_test:\n",
    "            return_dict[\"test_pred\"] = test_pred['predictions']\n",
    "            return_dict[\"test_pred_prob\"] = test_pred['predict_prob']\n",
    "        return(return_dict)\n",
    "    else:\n",
    "        return(pd.DataFrame(model_eval_dict))\n"
   ]
  },
  {
   "cell_type": "code",
   "execution_count": 77,
   "metadata": {},
   "outputs": [
    {
     "data": {
      "text/plain": [
       "{'model_type': 'decision',\n",
       " 'model': [DecisionTreeClassifier(max_depth=1)],\n",
       " 'train_score': [0.9972880388238653],\n",
       " 'validation_score': [0.9988584474885844]}"
      ]
     },
     "execution_count": 77,
     "metadata": {},
     "output_type": "execute_result"
    }
   ],
   "source": [
    "# our selected decision tree model (no feature selection)\n",
    "tree = train_and_evaluate_model(model = DecisionTreeClassifier,\n",
    "                                 model_type = \"decision\",\n",
    "                                 model_params = best_params_decision, \n",
    "                                 X_train = train_stage2[best_features], y_train = train_stage2['certified'], \n",
    "                                 X_valid = valid_stage2[best_features], y_valid = valid_stage2['certified'],\n",
    "                                 run_test = False,\n",
    "                                 return_pred = True)\n",
    "tree['model_eval_dict']"
   ]
  },
  {
   "cell_type": "code",
   "execution_count": 78,
   "metadata": {},
   "outputs": [
    {
     "data": {
      "text/plain": [
       "{'model_type': 'randomforest',\n",
       " 'model': [RandomForestClassifier(max_depth=15, n_estimators=50)],\n",
       " 'train_score': [1.0],\n",
       " 'validation_score': [0.9988584474885844]}"
      ]
     },
     "execution_count": 78,
     "metadata": {},
     "output_type": "execute_result"
    }
   ],
   "source": [
    "# our random forest model  (no feature selection)\n",
    "rand = train_and_evaluate_model(model = RandomForestClassifier,\n",
    "                         model_type = \"randomforest\",\n",
    "                         model_params = best_params_rand, \n",
    "                         X_train = train_stage2[best_features], y_train = train_stage2['certified'], \n",
    "                         X_valid = valid_stage2[best_features], y_valid = valid_stage2['certified'],\n",
    "                         run_test = False,\n",
    "                         return_pred = True)\n",
    "rand['model_eval_dict']"
   ]
  },
  {
   "cell_type": "code",
   "execution_count": 79,
   "metadata": {},
   "outputs": [
    {
     "data": {
      "text/plain": [
       "{'model_type': 'adaboost',\n",
       " 'model': [AdaBoostClassifier(base_estimator=DecisionTreeClassifier(), learning_rate=3,\n",
       "                     n_estimators=10)],\n",
       " 'train_score': [1.0],\n",
       " 'validation_score': [0.9971461187214612]}"
      ]
     },
     "execution_count": 79,
     "metadata": {},
     "output_type": "execute_result"
    }
   ],
   "source": [
    "# our ada boost model (using decision tree as base classifier)  (no feature selection)\n",
    "ada = train_and_evaluate_model(model = AdaBoostClassifier,\n",
    "                         model_type = \"adaboost\",\n",
    "                         model_params = best_params_ada, \n",
    "                         X_train = train_stage2[best_features], y_train = train_stage2['certified'], \n",
    "                         X_valid = valid_stage2[best_features], y_valid = valid_stage2['certified'],\n",
    "                         run_test = False,\n",
    "                         return_pred = True)\n",
    "ada['model_eval_dict']"
   ]
  },
  {
   "cell_type": "code",
   "execution_count": 80,
   "metadata": {},
   "outputs": [
    {
     "data": {
      "text/plain": [
       "{'model_type': 'knn',\n",
       " 'model': [KNeighborsClassifier(n_neighbors=3)],\n",
       " 'train_score': [0.96988295746503],\n",
       " 'validation_score': [0.944634703196347]}"
      ]
     },
     "execution_count": 80,
     "metadata": {},
     "output_type": "execute_result"
    }
   ],
   "source": [
    "# our k neighbors classifier model  (no feature selection)\n",
    "knn = train_and_evaluate_model(model = KNeighborsClassifier,\n",
    "                         model_type = \"knn\",\n",
    "                         model_params = best_params_knn, \n",
    "                         X_train = train_stage2[best_features], y_train = train_stage2['certified'], \n",
    "                         X_valid = valid_stage2[best_features], y_valid = valid_stage2['certified'],\n",
    "                         run_test = False,\n",
    "                         return_pred = True)\n",
    "knn['model_eval_dict']"
   ]
  },
  {
   "cell_type": "markdown",
   "metadata": {},
   "source": [
    "#### Models with feature selection implemented"
   ]
  },
  {
   "cell_type": "code",
   "execution_count": 81,
   "metadata": {},
   "outputs": [
    {
     "data": {
      "text/plain": [
       "{'model_type': 'decision',\n",
       " 'model': [DecisionTreeClassifier(max_depth=1)],\n",
       " 'train_score': [0.9972880388238653],\n",
       " 'validation_score': [0.9988584474885844]}"
      ]
     },
     "execution_count": 81,
     "metadata": {},
     "output_type": "execute_result"
    }
   ],
   "source": [
    "# our selected decision tree model (with feature selection)\n",
    "tree2 = train_and_evaluate_model(model = DecisionTreeClassifier,\n",
    "                         model_type = \"decision\",\n",
    "                         model_params = best_params_decision_w_select, \n",
    "                         X_train = X_train_w_select, y_train = train_stage2['certified'], \n",
    "                         X_valid = X_valid_w_select, y_valid = valid_stage2['certified'],\n",
    "                         run_test = False,\n",
    "                         return_pred = True)\n",
    "tree2['model_eval_dict']"
   ]
  },
  {
   "cell_type": "code",
   "execution_count": 82,
   "metadata": {},
   "outputs": [
    {
     "data": {
      "text/plain": [
       "{'model_type': 'randomforest',\n",
       " 'model': [RandomForestClassifier(max_depth=20, min_samples_leaf=50, n_estimators=10)],\n",
       " 'train_score': [0.9970025692263774],\n",
       " 'validation_score': [0.9988584474885844]}"
      ]
     },
     "execution_count": 82,
     "metadata": {},
     "output_type": "execute_result"
    }
   ],
   "source": [
    "# our random forest model  (with feature selection)\n",
    "rand2 = train_and_evaluate_model(model = RandomForestClassifier,\n",
    "                         model_type = \"randomforest\",\n",
    "                         model_params = best_params_rand_w_select, \n",
    "                         X_train = X_train_w_select, y_train = train_stage2['certified'], \n",
    "                         X_valid = X_valid_w_select, y_valid = valid_stage2['certified'],\n",
    "                         run_test = False,\n",
    "                         return_pred = True)\n",
    "rand2['model_eval_dict']"
   ]
  },
  {
   "cell_type": "markdown",
   "metadata": {},
   "source": [
    "## Model Results and Vetting"
   ]
  },
  {
   "cell_type": "markdown",
   "metadata": {},
   "source": [
    "Looking at our final results, here we plot some of the predictions on our test, validation and training data and how they compare"
   ]
  },
  {
   "cell_type": "code",
   "execution_count": 83,
   "metadata": {},
   "outputs": [
    {
     "data": {
      "image/png": "[encoded data removed]",
      "text/plain": [
       "<Figure size 432x288 with 2 Axes>"
      ]
     },
     "metadata": {
      "needs_background": "light"
     },
     "output_type": "display_data"
    },
    {
     "data": {
      "image/png": "[encoded data removed]",
      "text/plain": [
       "<Figure size 432x288 with 2 Axes>"
      ]
     },
     "metadata": {
      "needs_background": "light"
     },
     "output_type": "display_data"
    },
    {
     "data": {
      "image/png": "[encoded data removed]",
      "text/plain": [
       "<Figure size 432x288 with 2 Axes>"
      ]
     },
     "metadata": {
      "needs_background": "light"
     },
     "output_type": "display_data"
    },
    {
     "data": {
      "image/png": "[encoded data removed]",
      "text/plain": [
       "<Figure size 432x288 with 2 Axes>"
      ]
     },
     "metadata": {
      "needs_background": "light"
     },
     "output_type": "display_data"
    }
   ],
   "source": [
    "from sklearn.metrics import confusion_matrix\n",
    "# Compute the four values tp, fp, fn, tn and plot them using plot_confusion_matrix\n",
    "\n",
    "def plot_confusion_matrix(pred_data, actual_data, model_type):\n",
    "    \"\"\"\n",
    "    Plots a confusion matrix using the values \n",
    "       tp - True Positive\n",
    "       fp - False Positive\n",
    "       fn - False Negative\n",
    "       tn - True Negative\n",
    "    \"\"\"\n",
    "    tn, fp, fn, tp = confusion_matrix(y_true = pred_data, \n",
    "                                  y_pred = actual_data.to_numpy()).ravel()\n",
    "    data = np.matrix([[tp, fp], [fn, tn]])\n",
    "\n",
    "    sns.heatmap(data,annot=True,xticklabels=['Actual Pos', 'Actual Neg']\n",
    "              ,yticklabels=['Pred. Pos', 'Pred. Neg']) \n",
    "    plt.title('Confusion matrix for {}'.format(model_type))\n",
    "    plt.show()\n",
    "    \n",
    "\n",
    "plot_confusion_matrix(tree['validate_pred'], valid_stage2['certified'], model_type = \"decision_tree\")\n",
    "plot_confusion_matrix(rand['validate_pred'], valid_stage2['certified'], model_type = \"random_forest\")\n",
    "plot_confusion_matrix(ada['validate_pred'], valid_stage2['certified'], model_type = \"ada_boost\")\n",
    "plot_confusion_matrix(knn['validate_pred'], valid_stage2['certified'], model_type = \"knn\")"
   ]
  },
  {
   "cell_type": "code",
   "execution_count": 84,
   "metadata": {},
   "outputs": [
    {
     "data": {
      "image/png": "[encoded data removed]",
      "text/plain": [
       "<Figure size 432x288 with 2 Axes>"
      ]
     },
     "metadata": {
      "needs_background": "light"
     },
     "output_type": "display_data"
    },
    {
     "data": {
      "image/png": "[encoded data removed]",
      "text/plain": [
       "<Figure size 432x288 with 2 Axes>"
      ]
     },
     "metadata": {
      "needs_background": "light"
     },
     "output_type": "display_data"
    },
    {
     "data": {
      "image/png": "[encoded data removed]",
      "text/plain": [
       "<Figure size 432x288 with 2 Axes>"
      ]
     },
     "metadata": {
      "needs_background": "light"
     },
     "output_type": "display_data"
    },
    {
     "data": {
      "image/png": "[encoded data removed]",
      "text/plain": [
       "<Figure size 432x288 with 2 Axes>"
      ]
     },
     "metadata": {
      "needs_background": "light"
     },
     "output_type": "display_data"
    }
   ],
   "source": [
    "# confusion matrices for our training data\n",
    "plot_confusion_matrix(tree['train_pred'], train_stage2['certified'], model_type = \"decision_tree\")\n",
    "plot_confusion_matrix(rand['train_pred'], train_stage2['certified'], model_type = \"random_forest\")\n",
    "plot_confusion_matrix(ada['train_pred'], train_stage2['certified'], model_type = \"ada_boost\")\n",
    "plot_confusion_matrix(knn['train_pred'], train_stage2['certified'], model_type = \"knn\")"
   ]
  },
  {
   "cell_type": "code",
   "execution_count": 85,
   "metadata": {},
   "outputs": [],
   "source": [
    "from sklearn.metrics import roc_curve\n",
    "\n",
    "def plot_roc_curve_model(actual_data, pred_prob,model_type = \"tree\"):\n",
    "    '''\n",
    "      Parameters:\n",
    "      ===================\n",
    "      first argument = true values, second argument = predicted probabilities\n",
    "      roc_curve returns 3 objects fpr, tpr, thresholds\n",
    "      fpr: false positive rate\n",
    "      tpr: true positive rate\n",
    "    '''\n",
    "\n",
    "    fpr, tpr, thresholds = roc_curve(actual_data.to_numpy(),\n",
    "                                     pred_prob[:, 1])\n",
    "\n",
    "    plt.plot(fpr, tpr)\n",
    "    plt.title('ROC curve for {} classifier'.format(model_type))\n",
    "    plt.xlabel('False Positive Rate')\n",
    "    plt.ylabel('True Positive Rate')\n",
    "    plt.grid(True)\n",
    "    plt.show()\n",
    "\n"
   ]
  },
  {
   "cell_type": "code",
   "execution_count": 86,
   "metadata": {},
   "outputs": [
    {
     "data": {
      "image/png": "[encoded data removed]",
      "text/plain": [
       "<Figure size 432x288 with 1 Axes>"
      ]
     },
     "metadata": {
      "needs_background": "light"
     },
     "output_type": "display_data"
    }
   ],
   "source": [
    "plot_roc_curve_model(actual_data=valid_stage2['certified'], pred_prob = tree['validate_pred_prob'], \n",
    "               model_type = \"decision tree\")"
   ]
  },
  {
   "cell_type": "code",
   "execution_count": 87,
   "metadata": {},
   "outputs": [
    {
     "data": {
      "image/png": "[encoded data removed]",
      "text/plain": [
       "<Figure size 432x288 with 1 Axes>"
      ]
     },
     "metadata": {
      "needs_background": "light"
     },
     "output_type": "display_data"
    }
   ],
   "source": [
    "plot_roc_curve_model(actual_data=valid_stage2['certified'], pred_prob = rand['validate_pred_prob'], \n",
    "               model_type = \"random forest\")\n"
   ]
  },
  {
   "cell_type": "code",
   "execution_count": 88,
   "metadata": {},
   "outputs": [
    {
     "data": {
      "image/png": "[encoded data removed]",
      "text/plain": [
       "<Figure size 432x288 with 1 Axes>"
      ]
     },
     "metadata": {
      "needs_background": "light"
     },
     "output_type": "display_data"
    }
   ],
   "source": [
    "plot_roc_curve_model(actual_data=valid_stage2['certified'], pred_prob = ada['validate_pred_prob'], \n",
    "               model_type = \"ada boost\")"
   ]
  },
  {
   "cell_type": "code",
   "execution_count": 89,
   "metadata": {},
   "outputs": [
    {
     "data": {
      "image/png": "[encoded data removed]",
      "text/plain": [
       "<Figure size 432x288 with 1 Axes>"
      ]
     },
     "metadata": {
      "needs_background": "light"
     },
     "output_type": "display_data"
    }
   ],
   "source": [
    "plot_roc_curve_model(actual_data=valid_stage2['certified'], pred_prob = knn['validate_pred_prob'], \n",
    "               model_type = \"knn\")"
   ]
  },
  {
   "cell_type": "markdown",
   "metadata": {},
   "source": [
    "## Summary of Results\n",
    "Here we can see that the performance of the Decision Tree and Random Tree models performed the best on the validation set and thus we concluded with using the Decision Tree Classifier yielded the best results. Using feature selection, it did help improve the random forest classifier to match the decision tree model out of the best performing models prior. \n",
    "\n",
    "To summarize, I improved my initial predictions by imputing the grade variable. I also improved my initial predictions by using feature selection. I tried encoding some variables/feature engineering (see feature engineering selection) but they didn't add a lot of explanatory value to our dataset. Here the ROC curves for the decision tree and random forest models reflect a perfect test almost as it's able to discriminate between the classifed and non-classified with 100 % sensitivity and 100 % specificity as opposed to the knn model which struggles a bit, helping assert that the random forest and decision tree models are very efficient and have a very high true positive rate compared to false positive rate. \n",
    "\n",
    "Given the ethnical implications of the following: \"Their idea is to use the model to help predict which student groups (i.e. from specific countries or certain educational backgrounds) would make them the most money by getting the most participants to complete their paid certificate program. Are there any ethical considerations we should think about before acting on that plan?\"\n",
    "\n",
    "There are a lot of ethical considerations because what we are doing by predicting which student groups is assuming/generalizing an entire group of students. We have to consider if we are blocking access/resources for a given group of students simply because possibly the model we made happen to predict correctly majority of students there didn't get certified. We also have to consider any external factors that may not be taken into consideration (and we can't since every individual is unique/has a unique background) such as if the country the students are from are undergoing some war/conflict, students experiencing difficulties at home, etc. As well, every student's experience is unique based on their own educational background and cannot be used to determine if they will be certified or not. "
   ]
  },
  {
   "cell_type": "code",
   "execution_count": 90,
   "metadata": {},
   "outputs": [],
   "source": [
    "# the selected best model to run testing data on\n",
    "pred = train_and_evaluate_model(model = DecisionTreeClassifier,\n",
    "                                 model_type = \"decision\",\n",
    "                                 model_params = best_params_decision, \n",
    "                                 X_train = train_stage2[best_features], y_train = train_stage2['certified'], \n",
    "                                 X_valid = valid_stage2[best_features], y_valid = valid_stage2['certified'],\n",
    "                                 run_test = True,\n",
    "                                 X_test = test_data_tran[best_features],\n",
    "                                 y_test = pd.DataFrame({\"hi\":[12,33]}), return_pred = True)['test_pred']"
   ]
  }
 ],
 "metadata": {
  "kernelspec": {
   "display_name": "Python 3",
   "language": "python",
   "name": "python3"
  },
  "language_info": {
   "codemirror_mode": {
    "name": "ipython",
    "version": 3
   },
   "file_extension": ".py",
   "mimetype": "text/x-python",
   "name": "python",
   "nbconvert_exporter": "python",
   "pygments_lexer": "ipython3",
   "version": "3.8.5"
  }
 },
 "nbformat": 4,
 "nbformat_minor": 4
}
